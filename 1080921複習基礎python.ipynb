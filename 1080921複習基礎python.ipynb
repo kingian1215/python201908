{
  "nbformat": 4,
  "nbformat_minor": 0,
  "metadata": {
    "colab": {
      "name": "1080921複習基礎python.ipynb",
      "provenance": [],
      "collapsed_sections": []
    },
    "kernelspec": {
      "name": "python3",
      "display_name": "Python 3"
    }
  },
  "cells": [
    {
      "cell_type": "code",
      "metadata": {
        "id": "q8SfLbMWbxQq",
        "colab_type": "code",
        "colab": {
          "base_uri": "https://localhost:8080/",
          "height": 102
        },
        "outputId": "2ffdfa98-fa56-4e85-b0b5-789f662b26d0"
      },
      "source": [
        "age = int(input('請輸入年齡:'))\n",
        "name = input('請輸入名字:')\n",
        "print('你的名字是',name)\n",
        "print('你的年齡是%d歲'%(age))\n",
        "print('你的名字是{},年齡是{}歲'.format(name,age))"
      ],
      "execution_count": 1,
      "outputs": [
        {
          "output_type": "stream",
          "text": [
            "請輸入年齡:18\n",
            "請輸入名字:Ian\n",
            "你的名字是 Ian\n",
            "你的年齡是18歲\n",
            "你的名字是Ian,年齡是18歲\n"
          ],
          "name": "stdout"
        }
      ]
    },
    {
      "cell_type": "code",
      "metadata": {
        "id": "srbldyygiMyE",
        "colab_type": "code",
        "colab": {
          "base_uri": "https://localhost:8080/",
          "height": 102
        },
        "outputId": "c0642570-cd7b-4a9f-fcff-5e868d0cfd05"
      },
      "source": [
        "en = int(input('請輸入英文成績:'))\n",
        "mth = int(input('請輸入數學成績:'))\n",
        "\n",
        "print('你的英文成績是',en)\n",
        "print('你的數學成績是%d'%(mth))\n",
        "print('你的數學成績是{},英文成績是{}'.format(mth,en))"
      ],
      "execution_count": 4,
      "outputs": [
        {
          "output_type": "stream",
          "text": [
            "請輸入英文成績:79\n",
            "請輸入數學成績:88\n",
            "你的英文成績是 79\n",
            "你的數學成績是88\n",
            "你的數學成績是88,英文成績是79\n"
          ],
          "name": "stdout"
        }
      ]
    },
    {
      "cell_type": "code",
      "metadata": {
        "id": "Vk4wCLuvlk1J",
        "colab_type": "code",
        "colab": {
          "base_uri": "https://localhost:8080/",
          "height": 34
        },
        "outputId": "20c70ff9-2a27-4a7f-efa4-0b24c545d549"
      },
      "source": [
        "score = 70\n",
        "if score >=80:\n",
        "  if score >= 90:\n",
        "    print('A')\n",
        "  else:\n",
        "    print('B')\n",
        "else:\n",
        "  if score >=70:\n",
        "    print('C')\n",
        "  else:\n",
        "    print('當掉')"
      ],
      "execution_count": 5,
      "outputs": [
        {
          "output_type": "stream",
          "text": [
            "C\n"
          ],
          "name": "stdout"
        }
      ]
    },
    {
      "cell_type": "code",
      "metadata": {
        "id": "TUuCEfkTmgra",
        "colab_type": "code",
        "colab": {}
      },
      "source": [
        ""
      ],
      "execution_count": 0,
      "outputs": []
    }
  ]
}