{
  "nbformat": 4,
  "nbformat_minor": 0,
  "metadata": {
    "kernelspec": {
      "display_name": "Python 3",
      "language": "python",
      "name": "python3"
    },
    "language_info": {
      "codemirror_mode": {
        "name": "ipython",
        "version": 3
      },
      "file_extension": ".py",
      "mimetype": "text/x-python",
      "name": "python",
      "nbconvert_exporter": "python",
      "pygments_lexer": "ipython3",
      "version": "3.6.8"
    },
    "colab": {
      "name": "正則表達式.ipynb",
      "version": "0.3.2",
      "provenance": [],
      "include_colab_link": true
    }
  },
  "cells": [
    {
      "cell_type": "markdown",
      "metadata": {
        "id": "view-in-github",
        "colab_type": "text"
      },
      "source": [
        "<a href=\"https://colab.research.google.com/github/kingian1215/python201908/blob/master/%E6%AD%A3%E5%89%87%E8%A1%A8%E9%81%94%E5%BC%8F.ipynb\" target=\"_parent\"><img src=\"https://colab.research.google.com/assets/colab-badge.svg\" alt=\"Open In Colab\"/></a>"
      ]
    },
    {
      "cell_type": "code",
      "metadata": {
        "id": "bIQWoXOO65xm",
        "colab_type": "code",
        "colab": {}
      },
      "source": [
        "#特殊字元\n",
        "# \\d 一個數字\n",
        "# \\D 一個非數字\n",
        "# \\w 一個英數字元\n",
        "# \\W 一個非英數字元\n",
        "# \\s 一個空白字元\n",
        "# \\S 一個非空白字元\n",
        "# \\b 一個單字範圍(介於 \\w和\\W，無論順序為何)\n",
        "# \\B 一個非單字範圍\n",
        "\n",
        "#使用指定符\n",
        "# a | b 或\n",
        "# . 除了\\n之外的任何字元\n",
        "# ^來源字串的開頭\n",
        "# $來源字串的結尾\n",
        "# prev ?  零或一個prev\n",
        "# prev *  零或多個prev 越多越好\n",
        "# prev *? 零或一個prev 越少越好\n",
        "# prev +  一個或多個prev 越多越好\n",
        "# prev +?  一個或多個prev 越少越好\n",
        "# prev {m} m個連續的prev\n",
        "# prev {m , n} m到n個連續的prev 越多越好\n",
        "# prev {m , n}? m到n個連續的prev 越少越好\n",
        "# [ abc ] a或b或c\n",
        "# [ ^abc ] not(a或b或c)\n",
        "# prev (?= next) prev，如果它後面有next的話\n",
        "# prev (?| next) prev，如果它後面沒有next的話\n",
        "# (?<= prev) next 如果next之前是prev，匹配next\n",
        "# (?<! prev) next 如果next之前不是prev，匹配next\n",
        "\n"
      ],
      "execution_count": 0,
      "outputs": []
    }
  ]
}