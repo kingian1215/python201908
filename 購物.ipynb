{
  "nbformat": 4,
  "nbformat_minor": 0,
  "metadata": {
    "colab": {
      "name": "購物.ipynb",
      "provenance": [],
      "authorship_tag": "ABX9TyOVlg2fDZ0ULRutuNGLLmis",
      "include_colab_link": true
    },
    "kernelspec": {
      "name": "python3",
      "display_name": "Python 3"
    }
  },
  "cells": [
    {
      "cell_type": "markdown",
      "metadata": {
        "id": "view-in-github",
        "colab_type": "text"
      },
      "source": [
        "<a href=\"https://colab.research.google.com/github/kingian1215/python201908/blob/master/%E8%B3%BC%E7%89%A9.ipynb\" target=\"_parent\"><img src=\"https://colab.research.google.com/assets/colab-badge.svg\" alt=\"Open In Colab\"/></a>"
      ]
    },
    {
      "cell_type": "code",
      "metadata": {
        "id": "alzpj0MvBBJp",
        "colab_type": "code",
        "outputId": "018e17b2-e646-47c6-923a-63fdace28e39",
        "colab": {
          "base_uri": "https://localhost:8080/",
          "height": 272
        }
      },
      "source": [
        "totles = 0\n",
        "foods = {'牛肉':{'價格':84},'豬肉':{'價格':53},'羊肉':{'價格':66},'雞肉':{'價格':42},'鴨肉':{'價格':49}}\n",
        "for goods, moneys in foods.items():\n",
        "  print('%s價格為每斤'%goods ,moneys['價格'],'元')\n",
        "buylist = {} \n",
        "k = ''\n",
        "while k != 'q':\n",
        "  # print(foods.keys())\n",
        "  good = input('請輸入上列所需之商品:')\n",
        "  num = eval(input('請輸入上列所需之商品數量:'))\n",
        "  for goods, moneys in foods.items():\n",
        "    if good in foods:\n",
        "      if good == goods:\n",
        "        totle = moneys['價格']*num\n",
        "        totles += totle\n",
        "        buylist.update({good:{'數量': num}})\n",
        "    else:\n",
        "      print('輸入錯誤')\n",
        "      break\n",
        "  k = input('請輸入任一件繼續或按q結束:')\n",
        "# print(buylist)\n",
        "print('總清單:')\n",
        "for fo,mo in buylist.items():\n",
        "  print('%s買了'%fo ,mo['數量'],'斤')\n",
        "\n",
        "print('總金額為:',totles,'元')\n"
      ],
      "execution_count": 3,
      "outputs": [
        {
          "output_type": "stream",
          "text": [
            "牛肉價格為每斤 84 元\n",
            "豬肉價格為每斤 53 元\n",
            "羊肉價格為每斤 66 元\n",
            "雞肉價格為每斤 42 元\n",
            "鴨肉價格為每斤 49 元\n",
            "請輸入上列所需之商品:雞肉\n",
            "請輸入上列所需之商品數量:3\n",
            "請輸入任一件繼續或按q結束:\n",
            "請輸入上列所需之商品:鴨肉\n",
            "請輸入上列所需之商品數量:7\n",
            "請輸入任一件繼續或按q結束:q\n",
            "總清單:\n",
            "雞肉買了 3 斤\n",
            "鴨肉買了 7 斤\n",
            "總金額為: 469 元\n"
          ],
          "name": "stdout"
        }
      ]
    },
    {
      "cell_type": "code",
      "metadata": {
        "id": "ziUqKNwajgp3",
        "colab_type": "code",
        "colab": {
          "base_uri": "https://localhost:8080/",
          "height": 34
        },
        "outputId": "bbf53b3a-2c6d-475e-cbe5-d830764a94e1"
      },
      "source": [
        "buylist"
      ],
      "execution_count": 4,
      "outputs": [
        {
          "output_type": "execute_result",
          "data": {
            "text/plain": [
              "{'雞肉': {'數量': 3}, '鴨肉': {'數量': 7}}"
            ]
          },
          "metadata": {
            "tags": []
          },
          "execution_count": 4
        }
      ]
    },
    {
      "cell_type": "code",
      "metadata": {
        "id": "fxQ4IF2ltnrk",
        "colab_type": "code",
        "colab": {}
      },
      "source": [
        ""
      ],
      "execution_count": 0,
      "outputs": []
    }
  ]
}